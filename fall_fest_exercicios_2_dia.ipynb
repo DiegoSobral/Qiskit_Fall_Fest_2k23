{
  "nbformat": 4,
  "nbformat_minor": 0,
  "metadata": {
    "colab": {
      "provenance": [],
      "toc_visible": true
    },
    "kernelspec": {
      "name": "python3",
      "display_name": "Python 3"
    },
    "language_info": {
      "name": "python"
    }
  },
  "cells": [
    {
      "cell_type": "markdown",
      "source": [
        "## Installs"
      ],
      "metadata": {
        "id": "pVNXNuNU-7IU"
      }
    },
    {
      "cell_type": "code",
      "execution_count": null,
      "metadata": {
        "colab": {
          "base_uri": "https://localhost:8080/"
        },
        "id": "Hcr9r69R7Rlw",
        "outputId": "c8883bbf-ee73-4142-a01a-b5d301564d05"
      },
      "outputs": [
        {
          "output_type": "stream",
          "name": "stdout",
          "text": [
            "\u001b[?25l     \u001b[90m━━━━━━━━━━━━━━━━━━━━━━━━━━━━━━━━━━━━━━━━\u001b[0m \u001b[32m0.0/162.6 kB\u001b[0m \u001b[31m?\u001b[0m eta \u001b[36m-:--:--\u001b[0m\r\u001b[2K     \u001b[91m━━━━━━━━━━━━━━━━━━━━━━━━━━━━━━━━━━\u001b[0m\u001b[90m╺\u001b[0m\u001b[90m━━━━\u001b[0m \u001b[32m143.4/162.6 kB\u001b[0m \u001b[31m4.3 MB/s\u001b[0m eta \u001b[36m0:00:01\u001b[0m\r\u001b[2K     \u001b[90m━━━━━━━━━━━━━━━━━━━━━━━━━━━━━━━━━━━━━━━\u001b[0m \u001b[32m162.6/162.6 kB\u001b[0m \u001b[31m3.4 MB/s\u001b[0m eta \u001b[36m0:00:00\u001b[0m\n",
            "\u001b[?25h  Preparing metadata (setup.py) ... \u001b[?25l\u001b[?25hdone\n",
            "\u001b[2K     \u001b[90m━━━━━━━━━━━━━━━━━━━━━━━━━━━━━━━━━━━━━━━━\u001b[0m \u001b[32m6.2/6.2 MB\u001b[0m \u001b[31m65.1 MB/s\u001b[0m eta \u001b[36m0:00:00\u001b[0m\n",
            "\u001b[2K     \u001b[90m━━━━━━━━━━━━━━━━━━━━━━━━━━━━━━━━━━━━━━━━\u001b[0m \u001b[32m2.0/2.0 MB\u001b[0m \u001b[31m76.0 MB/s\u001b[0m eta \u001b[36m0:00:00\u001b[0m\n",
            "\u001b[2K     \u001b[90m━━━━━━━━━━━━━━━━━━━━━━━━━━━━━━━━━━━━━━━━\u001b[0m \u001b[32m49.6/49.6 kB\u001b[0m \u001b[31m5.2 MB/s\u001b[0m eta \u001b[36m0:00:00\u001b[0m\n",
            "\u001b[2K     \u001b[90m━━━━━━━━━━━━━━━━━━━━━━━━━━━━━━━━━━━━━━\u001b[0m \u001b[32m115.3/115.3 kB\u001b[0m \u001b[31m11.0 MB/s\u001b[0m eta \u001b[36m0:00:00\u001b[0m\n",
            "\u001b[2K     \u001b[90m━━━━━━━━━━━━━━━━━━━━━━━━━━━━━━━━━━━━━━━━\u001b[0m \u001b[32m49.6/49.6 kB\u001b[0m \u001b[31m5.2 MB/s\u001b[0m eta \u001b[36m0:00:00\u001b[0m\n",
            "\u001b[2K     \u001b[90m━━━━━━━━━━━━━━━━━━━━━━━━━━━━━━━━━━━━━━━━\u001b[0m \u001b[32m37.5/37.5 MB\u001b[0m \u001b[31m18.1 MB/s\u001b[0m eta \u001b[36m0:00:00\u001b[0m\n",
            "\u001b[2K     \u001b[90m━━━━━━━━━━━━━━━━━━━━━━━━━━━━━━━━━━━━━━\u001b[0m \u001b[32m112.7/112.7 kB\u001b[0m \u001b[31m12.4 MB/s\u001b[0m eta \u001b[36m0:00:00\u001b[0m\n",
            "\u001b[?25h  Building wheel for pylatexenc (setup.py) ... \u001b[?25l\u001b[?25hdone\n"
          ]
        }
      ],
      "source": [
        "!pip install qiskit pylatexenc --quiet"
      ]
    },
    {
      "cell_type": "code",
      "source": [
        "!pip install qiskit_aer --quiet"
      ],
      "metadata": {
        "id": "1gacZYVGJjzy",
        "colab": {
          "base_uri": "https://localhost:8080/"
        },
        "outputId": "53114469-75bb-4c32-f3cb-4415a9be7006"
      },
      "execution_count": null,
      "outputs": [
        {
          "output_type": "stream",
          "name": "stdout",
          "text": [
            "\u001b[2K     \u001b[90m━━━━━━━━━━━━━━━━━━━━━━━━━━━━━━━━━━━━━━━━\u001b[0m \u001b[32m12.8/12.8 MB\u001b[0m \u001b[31m25.8 MB/s\u001b[0m eta \u001b[36m0:00:00\u001b[0m\n",
            "\u001b[?25h"
          ]
        }
      ]
    },
    {
      "cell_type": "markdown",
      "source": [
        "## Imports"
      ],
      "metadata": {
        "id": "h_Q1pCrJJvLM"
      }
    },
    {
      "cell_type": "code",
      "source": [
        "import numpy as np\n",
        "from qiskit import QuantumCircuit\n",
        "from qiskit import Aer\n",
        "from qiskit.visualization import plot_histogram, visualize_transition, plot_bloch_vector"
      ],
      "metadata": {
        "id": "0ikRP17M_B9R"
      },
      "execution_count": null,
      "outputs": []
    },
    {
      "cell_type": "markdown",
      "source": [
        "## Operações em um qubit"
      ],
      "metadata": {
        "id": "ooCOHB4bJyFY"
      }
    },
    {
      "cell_type": "markdown",
      "source": [
        "### Código Referência"
      ],
      "metadata": {
        "id": "WqUJwGOwSNfO"
      }
    },
    {
      "cell_type": "markdown",
      "source": [
        "Portas de 1-qubit comuns:"
      ],
      "metadata": {
        "id": "tRqUDTmj_tr5"
      }
    },
    {
      "cell_type": "code",
      "source": [
        "qc = QuantumCircuit(1)\n",
        "qc.x(0)\n",
        "qc.y(0)\n",
        "qc.z(0)\n",
        "qc.h(0)\n",
        "qc.draw(\"mpl\")"
      ],
      "metadata": {
        "colab": {
          "base_uri": "https://localhost:8080/",
          "height": 127
        },
        "id": "USsic_2h_vN3",
        "outputId": "ba2f3791-d523-4296-d069-94502d71e24c"
      },
      "execution_count": null,
      "outputs": [
        {
          "output_type": "execute_result",
          "data": {
            "text/plain": [
              "<Figure size 436.286x117.056 with 1 Axes>"
            ],
            "image/png": "[encoded data removed]"
          },
          "metadata": {},
          "execution_count": 22
        }
      ]
    },
    {
      "cell_type": "markdown",
      "source": [
        "Rotações e porta de fase:"
      ],
      "metadata": {
        "id": "VqauXsmWTV-L"
      }
    },
    {
      "cell_type": "code",
      "source": [
        "qc = QuantumCircuit(1)\n",
        "qc.rz(np.pi, 0)\n",
        "qc.ry(np.pi, 0)\n",
        "qc.rz(np.pi, 0)\n",
        "qc.p(np.pi, 0)\n",
        "qc.draw(\"mpl\")"
      ],
      "metadata": {
        "colab": {
          "base_uri": "https://localhost:8080/",
          "height": 127
        },
        "id": "2mZZ-AE3_y7H",
        "outputId": "a31da788-1d42-4c8f-d95b-d00f7837099c"
      },
      "execution_count": null,
      "outputs": [
        {
          "output_type": "execute_result",
          "data": {
            "text/plain": [
              "<Figure size 436.286x117.056 with 1 Axes>"
            ],
            "image/png": "[encoded data removed]"
          },
          "metadata": {},
          "execution_count": 23
        }
      ]
    },
    {
      "cell_type": "markdown",
      "source": [
        "Visualização na esfera de Bloch"
      ],
      "metadata": {
        "id": "_U5twdAm429P"
      }
    },
    {
      "cell_type": "code",
      "source": [
        "qc = QuantumCircuit(1)\n",
        "qc.z(0)\n",
        "visualize_transition(qc)"
      ],
      "metadata": {
        "id": "DY9K0pMT5MBR"
      },
      "execution_count": null,
      "outputs": []
    },
    {
      "cell_type": "code",
      "source": [
        "qc = QuantumCircuit(1)\n",
        "qc.x(0)\n",
        "visualize_transition(qc)"
      ],
      "metadata": {
        "id": "lThHvIFZ4570"
      },
      "execution_count": null,
      "outputs": []
    },
    {
      "cell_type": "code",
      "source": [
        "qc = QuantumCircuit(1)\n",
        "qc.y(0)\n",
        "visualize_transition(qc)"
      ],
      "metadata": {
        "id": "ZjyvZTf44_Im"
      },
      "execution_count": null,
      "outputs": []
    },
    {
      "cell_type": "code",
      "source": [
        "qc = QuantumCircuit(1)\n",
        "qc.h(0)\n",
        "visualize_transition(qc)"
      ],
      "metadata": {
        "id": "ZIYRCaki5BYX"
      },
      "execution_count": null,
      "outputs": []
    },
    {
      "cell_type": "markdown",
      "source": [
        "### Exercícios"
      ],
      "metadata": {
        "id": "YAXQXpJoSVtt"
      }
    },
    {
      "cell_type": "markdown",
      "source": [
        "Primeiro, vamos exercitar a implementação de portas simples no circuito"
      ],
      "metadata": {
        "id": "mHeWmEF5HoxX"
      }
    },
    {
      "cell_type": "markdown",
      "source": [
        "1) Implemente um circuito de um qubit que represente a unitária $R_z(\\pi/2) X H$. Preste atenção que na ordem matricial, o primeiro operador a ser aplicado é o mais à direita"
      ],
      "metadata": {
        "id": "E-tZwBg4KKXM"
      }
    },
    {
      "cell_type": "code",
      "source": [
        "qc = QuantumCircuit(1)\n",
        "#implemente seu código aqui\n",
        "qc.draw(\"mpl\")"
      ],
      "metadata": {
        "id": "aBhC747nKae-",
        "colab": {
          "base_uri": "https://localhost:8080/",
          "height": 127
        },
        "outputId": "1ef8abd9-f9cc-4bed-a0be-daac68d36208"
      },
      "execution_count": null,
      "outputs": [
        {
          "output_type": "execute_result",
          "data": {
            "text/plain": [
              "<Figure size 143.647x117.056 with 1 Axes>"
            ],
            "image/png": "[encoded data removed]"
          },
          "metadata": {},
          "execution_count": 24
        }
      ]
    },
    {
      "cell_type": "markdown",
      "source": [
        "2) Implemente um circuito de um qubit que represente a unitária $P(\\pi) X R_y(\\pi/4) Z Y$"
      ],
      "metadata": {
        "id": "GSmbtLF4GWGY"
      }
    },
    {
      "cell_type": "code",
      "source": [
        "qc = QuantumCircuit(1)\n",
        "#implemente seu código aqui\n",
        "qc.draw(\"mpl\")"
      ],
      "metadata": {
        "id": "yWDvHq39GQQK",
        "colab": {
          "base_uri": "https://localhost:8080/",
          "height": 127
        },
        "outputId": "a8f36a6d-5e96-45b1-dc9f-184165db7705"
      },
      "execution_count": null,
      "outputs": [
        {
          "output_type": "execute_result",
          "data": {
            "text/plain": [
              "<Figure size 143.647x117.056 with 1 Axes>"
            ],
            "image/png": "[encoded data removed]"
          },
          "metadata": {},
          "execution_count": 25
        }
      ]
    },
    {
      "cell_type": "markdown",
      "source": [
        "## Utilizando um backend"
      ],
      "metadata": {
        "id": "FFPKB8tsJgyg"
      }
    },
    {
      "cell_type": "markdown",
      "source": [
        "Agora, vamos utilizar um backend para mostrar alguns resultados"
      ],
      "metadata": {
        "id": "rt0q8twDK4Sb"
      }
    },
    {
      "cell_type": "code",
      "source": [
        "def run_statevector(circ):\n",
        "  sv_simulator = Aer.get_backend(\"statevector_simulator\")\n",
        "  job = sv_simulator.run(circ)\n",
        "  result = job.result()\n",
        "  return result.get_statevector()\n",
        "\n",
        "qc = QuantumCircuit(1)\n",
        "state_vector = run_statevector(qc)\n",
        "state_vector.draw('latex')"
      ],
      "metadata": {
        "colab": {
          "base_uri": "https://localhost:8080/",
          "height": 37
        },
        "id": "s6nd1uroLVeP",
        "outputId": "9fcacc19-387b-4847-d129-731d4c7a3bcf"
      },
      "execution_count": null,
      "outputs": [
        {
          "output_type": "execute_result",
          "data": {
            "text/plain": [
              "<IPython.core.display.Latex object>"
            ],
            "text/latex": "$$ |0\\rangle$$"
          },
          "metadata": {},
          "execution_count": 26
        }
      ]
    },
    {
      "cell_type": "code",
      "source": [
        "def run_qasm_counts(circ, shots=1024):\n",
        "  qc.measure_all()\n",
        "  qasm_simulator = Aer.get_backend(\"qasm_simulator\")\n",
        "  job = qasm_simulator.run(qc, shots=shots)\n",
        "  result = job.result()\n",
        "  return result.get_counts()\n",
        "\n",
        "qc = QuantumCircuit(1)\n",
        "counts = run_qasm_counts(qc)\n",
        "counts"
      ],
      "metadata": {
        "colab": {
          "base_uri": "https://localhost:8080/"
        },
        "id": "WAG2-D1VaogL",
        "outputId": "b8758f70-dbb0-4a34-dd4d-e5a264ab6ce5"
      },
      "execution_count": null,
      "outputs": [
        {
          "output_type": "execute_result",
          "data": {
            "text/plain": [
              "{'0': 1024}"
            ]
          },
          "metadata": {},
          "execution_count": 8
        }
      ]
    },
    {
      "cell_type": "markdown",
      "source": [
        "Agora, vamos aplicar os operadores:"
      ],
      "metadata": {
        "id": "HtqgaESMck9q"
      }
    },
    {
      "cell_type": "code",
      "source": [
        "qc = QuantumCircuit(1)\n",
        "qc.x(0)\n",
        "qc.draw('mpl')"
      ],
      "metadata": {
        "colab": {
          "base_uri": "https://localhost:8080/",
          "height": 127
        },
        "id": "fDbRXnsEM0s1",
        "outputId": "63951b5e-4df8-49c2-ff90-bc5069defead"
      },
      "execution_count": null,
      "outputs": [
        {
          "output_type": "execute_result",
          "data": {
            "text/plain": [
              "<Figure size 185.453x117.056 with 1 Axes>"
            ],
            "image/png": "[encoded data removed]"
          },
          "metadata": {},
          "execution_count": 9
        }
      ]
    },
    {
      "cell_type": "code",
      "source": [
        "state_vector = run_statevector(qc)\n",
        "state_vector.draw('latex')"
      ],
      "metadata": {
        "colab": {
          "base_uri": "https://localhost:8080/",
          "height": 37
        },
        "id": "Qwd9BATUMz0f",
        "outputId": "2df90a14-5e5e-43f1-e15a-932ebd0836e6"
      },
      "execution_count": null,
      "outputs": [
        {
          "output_type": "execute_result",
          "data": {
            "text/plain": [
              "<IPython.core.display.Latex object>"
            ],
            "text/latex": "$$ |1\\rangle$$"
          },
          "metadata": {},
          "execution_count": 10
        }
      ]
    },
    {
      "cell_type": "code",
      "source": [
        "qc = QuantumCircuit(1)\n",
        "qc.x(0)\n",
        "counts = run_qasm_counts(qc)\n",
        "counts"
      ],
      "metadata": {
        "colab": {
          "base_uri": "https://localhost:8080/"
        },
        "id": "75vDGNeKaYeH",
        "outputId": "2a8576e3-7580-41aa-f531-29bfc58c602b"
      },
      "execution_count": null,
      "outputs": [
        {
          "output_type": "execute_result",
          "data": {
            "text/plain": [
              "{'1': 1024}"
            ]
          },
          "metadata": {},
          "execution_count": 11
        }
      ]
    },
    {
      "cell_type": "markdown",
      "source": [
        "O mesmo para o estado em $(|0>+|1>)/2$"
      ],
      "metadata": {
        "id": "tAQ7zBtecCsy"
      }
    },
    {
      "cell_type": "code",
      "source": [
        "qc = QuantumCircuit(1)\n",
        "qc.h(0)\n",
        "qc.draw('mpl')"
      ],
      "metadata": {
        "id": "hm1rCOC1cAgQ",
        "colab": {
          "base_uri": "https://localhost:8080/",
          "height": 127
        },
        "outputId": "6b67529e-3bd5-4f7d-90fd-b890e8b4406e"
      },
      "execution_count": null,
      "outputs": [
        {
          "output_type": "execute_result",
          "data": {
            "text/plain": [
              "<Figure size 185.453x117.056 with 1 Axes>"
            ],
            "image/png": "[encoded data removed]"
          },
          "metadata": {},
          "execution_count": 12
        }
      ]
    },
    {
      "cell_type": "code",
      "source": [
        "state_vector = run_statevector(qc)\n",
        "state_vector.draw('latex')"
      ],
      "metadata": {
        "id": "oCdUOfLJbR_T",
        "colab": {
          "base_uri": "https://localhost:8080/",
          "height": 40
        },
        "outputId": "cb313b92-8c2f-4772-c22a-9454b2c08917"
      },
      "execution_count": null,
      "outputs": [
        {
          "output_type": "execute_result",
          "data": {
            "text/plain": [
              "<IPython.core.display.Latex object>"
            ],
            "text/latex": "$$\\frac{\\sqrt{2}}{2} |0\\rangle+\\frac{\\sqrt{2}}{2} |1\\rangle$$"
          },
          "metadata": {},
          "execution_count": 13
        }
      ]
    },
    {
      "cell_type": "code",
      "source": [
        "qc = QuantumCircuit(1)\n",
        "qc.h(0)\n",
        "counts = run_qasm_counts(qc, shots=1024)\n",
        "counts"
      ],
      "metadata": {
        "colab": {
          "base_uri": "https://localhost:8080/"
        },
        "id": "i1mcQg41bA4v",
        "outputId": "719b37a0-4e00-412a-caa8-c50406c884b5"
      },
      "execution_count": null,
      "outputs": [
        {
          "output_type": "execute_result",
          "data": {
            "text/plain": [
              "{'0': 534, '1': 490}"
            ]
          },
          "metadata": {},
          "execution_count": 14
        }
      ]
    },
    {
      "cell_type": "markdown",
      "source": [
        "Rode novamente os counts para 2048, 4096 e 8192 shots"
      ],
      "metadata": {
        "id": "6jIHYAF-A5-U"
      }
    },
    {
      "cell_type": "code",
      "source": [],
      "metadata": {
        "id": "InyvEpkCBFhv"
      },
      "execution_count": null,
      "outputs": []
    },
    {
      "cell_type": "markdown",
      "source": [
        "Agora, faça o mesmo para $R_y(\\pi/3)$. Basta os 1024 shots (Não precisa passar o argumento)"
      ],
      "metadata": {
        "id": "gFArl-e6dgqQ"
      }
    },
    {
      "cell_type": "code",
      "source": [],
      "metadata": {
        "id": "A4YlD-S0dPHR"
      },
      "execution_count": null,
      "outputs": []
    },
    {
      "cell_type": "code",
      "source": [],
      "metadata": {
        "id": "dMzgkxsS2hst"
      },
      "execution_count": null,
      "outputs": []
    },
    {
      "cell_type": "markdown",
      "source": [
        "## Sistema com múltiplos qubits"
      ],
      "metadata": {
        "id": "09EOXwJNeRp1"
      }
    },
    {
      "cell_type": "markdown",
      "source": [
        "Por fim, apliquemos operadores de 1 qubit em sistemas multi-qubit. Nesse exercício, você deve inicializar um Quantum Circuit com 3 qubits e aplicar uma porta Hadamard (H) no qubit 0, uma porta X seguida de um $R_y(\\pi)$ no qubit 1 e uma porta Z no qubit 2"
      ],
      "metadata": {
        "id": "8tQgbt8pc0Df"
      }
    },
    {
      "cell_type": "markdown",
      "source": [
        "Nesse caso, também utilizaremos registradores clássicos para salvar as medições de qubits individuais"
      ],
      "metadata": {
        "id": "S1toPwHpgcji"
      }
    },
    {
      "cell_type": "code",
      "source": [
        "qc = QuantumCircuit(3,2)\n",
        "\n",
        "#insira seu código aqui\n",
        "\n",
        "\n",
        "qc.measure(0,0)\n",
        "qc.measure(2,1)\n",
        "qc.draw('mpl')"
      ],
      "metadata": {
        "id": "NDP5vdorczq-"
      },
      "execution_count": null,
      "outputs": []
    },
    {
      "cell_type": "code",
      "source": [
        "qasm_simulator = Aer.get_backend(\"qasm_simulator\")\n",
        "job = qasm_simulator.run(qc, shots=1024)\n",
        "result = job.result()\n",
        "result.get_counts()"
      ],
      "metadata": {
        "colab": {
          "base_uri": "https://localhost:8080/"
        },
        "id": "6jk_AZCYeH2Y",
        "outputId": "5afe4b3f-870f-4a02-9420-62dbfc6be70c"
      },
      "execution_count": null,
      "outputs": [
        {
          "output_type": "execute_result",
          "data": {
            "text/plain": [
              "{'00': 518, '01': 506}"
            ]
          },
          "metadata": {},
          "execution_count": 51
        }
      ]
    },
    {
      "cell_type": "markdown",
      "source": [
        "## Operações de 2 qubits"
      ],
      "metadata": {
        "id": "BG7mCpujNJKn"
      }
    },
    {
      "cell_type": "markdown",
      "source": [
        "### CNOTs"
      ],
      "metadata": {
        "id": "mLp8Rg5lhJHX"
      }
    },
    {
      "cell_type": "markdown",
      "source": [
        "Para portas de 2 qubits, começamos falando da porta CNOT"
      ],
      "metadata": {
        "id": "8wb52kHJHvTP"
      }
    },
    {
      "cell_type": "code",
      "source": [
        "qc = QuantumCircuit(2)\n",
        "qc.cx(0, 1)\n",
        "qc.cx(1, 0)\n",
        "qc.draw(\"mpl\")"
      ],
      "metadata": {
        "colab": {
          "base_uri": "https://localhost:8080/",
          "height": 191
        },
        "id": "RwzzW1CyHzBx",
        "outputId": "5720b692-d06e-49af-e2a8-96bba0abaa0c"
      },
      "execution_count": null,
      "outputs": [
        {
          "output_type": "execute_result",
          "data": {
            "text/plain": [
              "<Figure size 287.294x200.667 with 1 Axes>"
            ],
            "image/png": "[encoded data removed]"
          },
          "metadata": {},
          "execution_count": 15
        }
      ]
    },
    {
      "cell_type": "markdown",
      "source": [
        "Se o q0 esta inicializado em 0:"
      ],
      "metadata": {
        "id": "KxMJfFsbNLkx"
      }
    },
    {
      "cell_type": "code",
      "source": [
        "qc = QuantumCircuit(2)\n",
        "qc.cx(0, 1)\n",
        "state_vector = run_statevector(qc)\n",
        "state_vector.draw('latex')"
      ],
      "metadata": {
        "colab": {
          "base_uri": "https://localhost:8080/",
          "height": 37
        },
        "id": "221GS7-0gsqy",
        "outputId": "113fa1d0-f9e0-41d3-ebd0-3efe67743a96"
      },
      "execution_count": null,
      "outputs": [
        {
          "output_type": "execute_result",
          "data": {
            "text/plain": [
              "<IPython.core.display.Latex object>"
            ],
            "text/latex": "$$ |00\\rangle$$"
          },
          "metadata": {},
          "execution_count": 16
        }
      ]
    },
    {
      "cell_type": "markdown",
      "source": [
        "Se q0 for inicializado em 1:"
      ],
      "metadata": {
        "id": "lyfp7mYShB2g"
      }
    },
    {
      "cell_type": "code",
      "source": [
        "qc = QuantumCircuit(2)\n",
        "qc.x(0)\n",
        "qc.cx(0, 1)\n",
        "state_vector = run_statevector(qc)\n",
        "state_vector.draw('latex')"
      ],
      "metadata": {
        "colab": {
          "base_uri": "https://localhost:8080/",
          "height": 37
        },
        "id": "DE7Aj2b0g_rS",
        "outputId": "bea7b4c8-0f7e-4446-bdf9-e93c175be3f3"
      },
      "execution_count": null,
      "outputs": [
        {
          "output_type": "execute_result",
          "data": {
            "text/plain": [
              "<IPython.core.display.Latex object>"
            ],
            "text/latex": "$$ |11\\rangle$$"
          },
          "metadata": {},
          "execution_count": 17
        }
      ]
    },
    {
      "cell_type": "markdown",
      "source": [
        "1) Aplique operadores X no primeiro Qubit para implementar uma porta controlada de controle aberto. O state vector deve ser $|10>$\n",
        "\n"
      ],
      "metadata": {
        "id": "jJTulNLxHolu"
      }
    },
    {
      "cell_type": "code",
      "source": [
        "qc = QuantumCircuit(2)\n",
        "#insira o código\n",
        "\n",
        "qc.draw(\"mpl\")"
      ],
      "metadata": {
        "colab": {
          "base_uri": "https://localhost:8080/",
          "height": 191
        },
        "id": "kD-w0YwrHpGF",
        "outputId": "1fe31645-1bff-457c-9372-462c1eb38f2d"
      },
      "execution_count": null,
      "outputs": [
        {
          "output_type": "execute_result",
          "data": {
            "text/plain": [
              "<Figure size 370.906x200.667 with 1 Axes>"
            ],
            "image/png": "[encoded data removed]"
          },
          "metadata": {},
          "execution_count": 18
        }
      ]
    },
    {
      "cell_type": "code",
      "source": [
        "state_vector = run_statevector(qc)\n",
        "state_vector.draw('latex')"
      ],
      "metadata": {
        "colab": {
          "base_uri": "https://localhost:8080/",
          "height": 37
        },
        "id": "lfUAZsYSH-NL",
        "outputId": "80bd7c88-bc6f-426d-9dbd-f948218765a6"
      },
      "execution_count": null,
      "outputs": [
        {
          "output_type": "execute_result",
          "data": {
            "text/plain": [
              "<IPython.core.display.Latex object>"
            ],
            "text/latex": "$$ |10\\rangle$$"
          },
          "metadata": {},
          "execution_count": 19
        }
      ]
    },
    {
      "cell_type": "markdown",
      "source": [
        "2) Aplique a porta hadamard no q0 antes da porta CNOT. Qual o nosso estado final?"
      ],
      "metadata": {
        "id": "jtbKmc3thHOH"
      }
    },
    {
      "cell_type": "code",
      "source": [],
      "metadata": {
        "id": "04Y7-w0chbBr"
      },
      "execution_count": null,
      "outputs": []
    },
    {
      "cell_type": "code",
      "source": [],
      "metadata": {
        "id": "YCipsT0chcqy"
      },
      "execution_count": null,
      "outputs": []
    },
    {
      "cell_type": "markdown",
      "source": [
        "3) Construa um circuito com 3 qubits com uma porta X no qubit 0, porta $R_y(\\pi/3)$ no qubit 2, e uma CNOT do qubit 2 pro 1. Calcule o statevector"
      ],
      "metadata": {
        "id": "SovyvNch4POw"
      }
    },
    {
      "cell_type": "code",
      "source": [],
      "metadata": {
        "id": "HU5q0gI34OtE"
      },
      "execution_count": null,
      "outputs": []
    },
    {
      "cell_type": "code",
      "source": [],
      "metadata": {
        "id": "zfUpCTiz4Xxr"
      },
      "execution_count": null,
      "outputs": []
    },
    {
      "cell_type": "markdown",
      "source": [
        "### SWAP"
      ],
      "metadata": {
        "id": "ucUspkjHhmo7"
      }
    },
    {
      "cell_type": "code",
      "source": [
        "qc = QuantumCircuit(2)\n",
        "qc.swap(0, 1)\n",
        "qc.draw(\"mpl\")"
      ],
      "metadata": {
        "colab": {
          "base_uri": "https://localhost:8080/",
          "height": 191
        },
        "id": "ig2SKVcnHG3u",
        "outputId": "0f48e1ca-ac47-4e9a-9553-ef025bb9a22e"
      },
      "execution_count": null,
      "outputs": [
        {
          "output_type": "execute_result",
          "data": {
            "text/plain": [
              "<Figure size 203.683x200.667 with 1 Axes>"
            ],
            "image/png": "[encoded data removed]"
          },
          "metadata": {},
          "execution_count": 31
        }
      ]
    },
    {
      "cell_type": "markdown",
      "source": [
        "Um exemplo de uso do swap. Primeiro, fazemos um caso base em que apenas aplicamos a porta $X$ no qubit 1"
      ],
      "metadata": {
        "id": "4mTQAALqIo3r"
      }
    },
    {
      "cell_type": "code",
      "source": [
        "qc = QuantumCircuit(2)\n",
        "qc.x(1)\n",
        "state_vector = run_statevector(qc)\n",
        "state_vector.draw('latex')"
      ],
      "metadata": {
        "colab": {
          "base_uri": "https://localhost:8080/",
          "height": 37
        },
        "id": "aVbwzXIIIi2W",
        "outputId": "0aafbca6-4d6e-48c5-fe46-7aa045def4a7"
      },
      "execution_count": null,
      "outputs": [
        {
          "output_type": "execute_result",
          "data": {
            "text/plain": [
              "<IPython.core.display.Latex object>"
            ],
            "text/latex": "$$ |10\\rangle$$"
          },
          "metadata": {},
          "execution_count": 28
        }
      ]
    },
    {
      "cell_type": "code",
      "source": [
        "qc = QuantumCircuit(2)\n",
        "qc.x(1)\n",
        "qc.swap(0, 1)\n",
        "qc.draw('mpl')"
      ],
      "metadata": {
        "colab": {
          "base_uri": "https://localhost:8080/",
          "height": 191
        },
        "id": "hEOPu8GCIMz_",
        "outputId": "13c0a1d3-2d0a-4e98-a7ad-e75ba7eaa068"
      },
      "execution_count": null,
      "outputs": [
        {
          "output_type": "execute_result",
          "data": {
            "text/plain": [
              "<Figure size 287.294x200.667 with 1 Axes>"
            ],
            "image/png": "[encoded data removed]"
          },
          "metadata": {},
          "execution_count": 29
        }
      ]
    },
    {
      "cell_type": "code",
      "source": [
        "state_vector = run_statevector(qc)\n",
        "state_vector.draw('latex')"
      ],
      "metadata": {
        "colab": {
          "base_uri": "https://localhost:8080/",
          "height": 37
        },
        "id": "a6EW6WWKIb2r",
        "outputId": "253ea861-957c-42fc-80fe-8da7dfd1c9fd"
      },
      "execution_count": null,
      "outputs": [
        {
          "output_type": "execute_result",
          "data": {
            "text/plain": [
              "<IPython.core.display.Latex object>"
            ],
            "text/latex": "$$ |01\\rangle$$"
          },
          "metadata": {},
          "execution_count": 30
        }
      ]
    },
    {
      "cell_type": "markdown",
      "source": [
        "Exercício: Aplique uma H no qubit 0, uma CNOT(0,1) e um swap (0,2) e veja o statevector"
      ],
      "metadata": {
        "id": "7VLTnQRc35YN"
      }
    },
    {
      "cell_type": "code",
      "source": [],
      "metadata": {
        "id": "CrqQifbX4DoX"
      },
      "execution_count": null,
      "outputs": []
    },
    {
      "cell_type": "code",
      "source": [],
      "metadata": {
        "id": "fMfuW1HB4D5S"
      },
      "execution_count": null,
      "outputs": []
    },
    {
      "cell_type": "markdown",
      "source": [
        "### Rotações Controladas"
      ],
      "metadata": {
        "id": "jeVPV8o1NQ0d"
      }
    },
    {
      "cell_type": "code",
      "source": [
        "qc = QuantumCircuit(2)\n",
        "qc.crz(np.pi, 0, 1)\n",
        "qc.cry(np.pi/2, 0, 1)\n",
        "qc.crx(np.pi/2, 1, 0)\n",
        "qc.draw(\"mpl\")"
      ],
      "metadata": {
        "colab": {
          "base_uri": "https://localhost:8080/",
          "height": 191
        },
        "id": "uLaugoKSISC-",
        "outputId": "de8c2323-a5b1-4317-d17d-a59a8d5a0994"
      },
      "execution_count": null,
      "outputs": [
        {
          "output_type": "execute_result",
          "data": {
            "text/plain": [
              "<Figure size 370.906x200.667 with 1 Axes>"
            ],
            "image/png": "[encoded data removed]"
          },
          "metadata": {},
          "execution_count": 33
        }
      ]
    },
    {
      "cell_type": "markdown",
      "source": [
        "Implemente um circuito com uma porta H em q0, uma CNOT(0,1) e uma $R_y(\\pi/4)$ controlada (1,2)"
      ],
      "metadata": {
        "id": "RrJjOk7v8jAl"
      }
    },
    {
      "cell_type": "code",
      "source": [],
      "metadata": {
        "id": "xO3yweiA8PPq"
      },
      "execution_count": null,
      "outputs": []
    },
    {
      "cell_type": "code",
      "source": [],
      "metadata": {
        "id": "xtcaHhX686Yx"
      },
      "execution_count": null,
      "outputs": []
    },
    {
      "cell_type": "markdown",
      "source": [
        "### Exercício"
      ],
      "metadata": {
        "id": "hfn50BZFhyIB"
      }
    },
    {
      "cell_type": "markdown",
      "source": [
        "Construa um circuito com 5 qubits com as operações:\n",
        "- $H$ no qubit 1\n",
        "- CNOT em (1,0)\n",
        "- $R_y(\\pi/3)$ no qubit 2\n",
        "- CNOT em (2,4)\n",
        "- SWAP (3,4)\n",
        "\n",
        "E calcule o statevector e os counts após 1024 medições"
      ],
      "metadata": {
        "id": "dbJMyfev7tVo"
      }
    },
    {
      "cell_type": "code",
      "source": [],
      "metadata": {
        "id": "zj8NlZb2l23E"
      },
      "execution_count": null,
      "outputs": []
    },
    {
      "cell_type": "code",
      "source": [],
      "metadata": {
        "id": "Mdv4DfG55abE"
      },
      "execution_count": null,
      "outputs": []
    },
    {
      "cell_type": "code",
      "source": [],
      "metadata": {
        "id": "C4L4fACL5avy"
      },
      "execution_count": null,
      "outputs": []
    },
    {
      "cell_type": "code",
      "source": [],
      "metadata": {
        "id": "zopMHHs5_16x"
      },
      "execution_count": null,
      "outputs": []
    },
    {
      "cell_type": "markdown",
      "source": [
        "### Estados de Bell"
      ],
      "metadata": {
        "id": "C5lBRM1rTF7D"
      }
    },
    {
      "cell_type": "markdown",
      "source": [
        "Implementar os outros 3 estados de Bell"
      ],
      "metadata": {
        "id": "QGMBHZxasUX0"
      }
    },
    {
      "cell_type": "code",
      "source": [
        "bell_01 = QuantumCircuit(2)\n",
        "#insira seu código\n",
        "\n",
        "bell_01.draw(\"mpl\")\n",
        "state_vector = run_statevector(bell_01)\n",
        "state_vector.draw('latex')"
      ],
      "metadata": {
        "id": "QrcoqC7qTHSK"
      },
      "execution_count": null,
      "outputs": []
    },
    {
      "cell_type": "code",
      "source": [
        "bell_10 = QuantumCircuit(2)\n",
        "#insira seu código\n",
        "\n",
        "bell_10.draw(\"mpl\")\n",
        "state_vector = run_statevector(bell_10)\n",
        "state_vector.draw('latex')"
      ],
      "metadata": {
        "id": "OCNJlx2Fsbs8"
      },
      "execution_count": null,
      "outputs": []
    },
    {
      "cell_type": "code",
      "source": [
        "bell_11 = QuantumCircuit(2)\n",
        "#insira seu código\n",
        "\n",
        "bell_11.draw(\"mpl\")\n",
        "state_vector = run_statevector(bell_11)\n",
        "state_vector.draw('latex')"
      ],
      "metadata": {
        "id": "kSFXFWjtsdC3"
      },
      "execution_count": null,
      "outputs": []
    },
    {
      "cell_type": "markdown",
      "source": [
        "## Exercícios extras"
      ],
      "metadata": {
        "id": "s_NiEDpiAkOf"
      }
    },
    {
      "cell_type": "markdown",
      "source": [
        "Para provar uma identidade entre dois circuitos, você pode avaliar os dois circuitos em cada elemento da base (Tem que considerar todos os qubits, a base do produto tensorial) e mostrar que são iguais. Construa os circuito da esquerda e calcule os statevector para cada combinação vetor da base (00, 01, 10, 11), para mostrar a seguinte identidade:"
      ],
      "metadata": {
        "id": "OJekI9rC_GcL"
      }
    },
    {
      "cell_type": "markdown",
      "source": [
        "![circuit inverse cnot.png](data:image/png;base64,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)"
      ],
      "metadata": {
        "id": "1RU4xX0p-jp5"
      }
    },
    {
      "cell_type": "code",
      "source": [],
      "metadata": {
        "id": "WKM6jHDBBgeB"
      },
      "execution_count": null,
      "outputs": []
    },
    {
      "cell_type": "markdown",
      "source": [
        "De forma semelhante, mostre que uma porta SWAP é equivalente à sequencia de portas CNOT(0,1), CNOT(1,0), CNOT(0,1)"
      ],
      "metadata": {
        "id": "RJFplnuEA7Qv"
      }
    },
    {
      "cell_type": "code",
      "source": [],
      "metadata": {
        "id": "3U6pNew5Bh7n"
      },
      "execution_count": null,
      "outputs": []
    }
  ]
}